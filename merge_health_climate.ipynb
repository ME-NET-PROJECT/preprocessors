{
 "cells": [
  {
   "cell_type": "markdown",
   "id": "561d29ac-3b84-48d6-a044-8d79b964aacb",
   "metadata": {},
   "source": [
    "## Import Libraries"
   ]
  },
  {
   "cell_type": "code",
   "execution_count": 49,
   "id": "25900f98-f8ba-4183-872b-810b6acdca3c",
   "metadata": {},
   "outputs": [],
   "source": [
    "import pandas as pd\n",
    "import numpy as np\n",
    "from pathlib import Path\n",
    "from tqdm import tqdm\n",
    "import json"
   ]
  },
  {
   "cell_type": "markdown",
   "id": "ea2526f8-3e24-4dd6-a517-78176b6bce8e",
   "metadata": {},
   "source": [
    "## Variables"
   ]
  },
  {
   "cell_type": "code",
   "execution_count": 27,
   "id": "0c721504-e040-4709-8ac2-eecb538f2680",
   "metadata": {},
   "outputs": [],
   "source": [
    "#models_folder = f\"datasets/cams_aurn/UK/models/\"\n",
    "#file_checkpoint_ann = \"model_site_aurn_cams_max_ann.weights.h5\"\n",
    "\n",
    "dataset_folder = \"datasets/UK/\"\n",
    "climate_dataset = Path(dataset_folder)/Path(\"sentinel_cams_aurn.csv\")\n",
    "\n",
    "health_dataset = Path(dataset_folder)/Path(\"mental_health.csv\")\n",
    "health_climate_dataset = Path(dataset_folder)/Path(\"mental_health_climate.csv\")\n",
    "\n",
    "# health_dataset = Path(dataset_folder)/Path(\"respiratory.csv\")\n",
    "# health_climate_dataset = Path(dataset_folder)/Path(\"respiratory_climate.csv\")"
   ]
  },
  {
   "cell_type": "markdown",
   "id": "ba6ee222-7bd5-4809-9d9b-64d13efc72e0",
   "metadata": {},
   "source": [
    "## **1. Load Datasets**"
   ]
  },
  {
   "cell_type": "markdown",
   "id": "50848fd6-d65f-4f40-bf4e-5f14476b71fb",
   "metadata": {},
   "source": [
    "### 1.1 Health Dataset\n",
    "1. Load the health dataset\n",
    "2. Covert the IncidentTime to a date with on time element\n",
    "3. remove rows where spatial data are both zero or NaNs"
   ]
  },
  {
   "cell_type": "code",
   "execution_count": 28,
   "id": "fc9a5428-215c-43ed-9eb7-9222a547279c",
   "metadata": {},
   "outputs": [],
   "source": [
    "df_health = pd.read_csv(health_dataset)  # Replace with actual file path"
   ]
  },
  {
   "cell_type": "code",
   "execution_count": 29,
   "id": "eabeb68b-788e-48eb-9870-fc09f239535d",
   "metadata": {},
   "outputs": [],
   "source": [
    "df_health['IncidentTime'] = pd.to_datetime(df_health['IncidentTime']).dt.date"
   ]
  },
  {
   "cell_type": "code",
   "execution_count": 30,
   "id": "4aaf81ba-ada6-4fd5-9df5-069bc6c8ad4c",
   "metadata": {},
   "outputs": [],
   "source": [
    "# df_health2 = df_health[(df_health['LSOA Centroid lat'] != 0) & (df_health['LSOA Centroid long'] != 0)]\n",
    "df_health = df_health[\n",
    "    (df_health['LSOA Centroid lat'] != 0) & \n",
    "    (df_health['LSOA Centroid long'] != 0) & \n",
    "    ~df_health['LSOA Centroid lat'].isna() & \n",
    "    ~df_health['LSOA Centroid long'].isna()\n",
    "]"
   ]
  },
  {
   "cell_type": "markdown",
   "id": "f0cd6911-a329-4416-a846-19d5ce0df2eb",
   "metadata": {},
   "source": [
    "### 1.2. Climate Dataset\n",
    "1. Load the Climate dataset"
   ]
  },
  {
   "cell_type": "code",
   "execution_count": 31,
   "id": "b7e2d6a2-bbed-4687-ba32-06f206508cd2",
   "metadata": {},
   "outputs": [],
   "source": [
    "df_climate = pd.read_csv(climate_dataset, parse_dates=['Time'], dayfirst=True)"
   ]
  },
  {
   "cell_type": "code",
   "execution_count": 32,
   "id": "dee03905-fd52-42f8-a6d1-f418b8c9d100",
   "metadata": {},
   "outputs": [],
   "source": [
    "df_climate['Time'] = pd.to_datetime(df_climate['Time'])"
   ]
  },
  {
   "cell_type": "markdown",
   "id": "901cf840-8504-4848-b99b-512fb06bda1b",
   "metadata": {},
   "source": [
    "### 1.3. Add Station Data to Health Data"
   ]
  },
  {
   "cell_type": "markdown",
   "id": "974feea3-dfd7-4633-af9a-3547d2a17f1b",
   "metadata": {},
   "source": [
    "#### 1.3.1 Function to compute haversine distance"
   ]
  },
  {
   "cell_type": "code",
   "execution_count": 33,
   "id": "28b3afcb-2cc8-44c8-96d1-f1f18a54b1ee",
   "metadata": {},
   "outputs": [],
   "source": [
    "def haversine(lat1, lon1, lat2, lon2):\n",
    "    R = 6371  # Earth's radius in km\n",
    "    lat1, lon1, lat2, lon2 = map(np.radians, [lat1, lon1, lat2, lon2])\n",
    "    dlat = lat2 - lat1\n",
    "    dlon = lon2 - lon1\n",
    "    a = np.sin(dlat / 2) ** 2 + np.cos(lat1) * np.cos(lat2) * np.sin(dlon / 2) ** 2\n",
    "    c = 2 * np.arctan2(np.sqrt(a), np.sqrt(1 - a))\n",
    "    return R * c"
   ]
  },
  {
   "cell_type": "markdown",
   "id": "6b74df6b-b470-4f5b-9779-267209a83357",
   "metadata": {},
   "source": [
    "#### 1.3.2 Find Closest Station to Health Data"
   ]
  },
  {
   "cell_type": "code",
   "execution_count": 34,
   "id": "e20a535b-cae2-4b34-a61a-7efa70d830b7",
   "metadata": {},
   "outputs": [],
   "source": [
    "def match_and_filter(df_health, df_climate):\n",
    "    # Pre-group climate data by date for quick lookup\n",
    "    climate_groups = {date: group for date, group in df_climate.groupby(df_climate['Time'].dt.date)}\n",
    "    \n",
    "    matched_rows = []\n",
    "\n",
    "    for _, health_row in tqdm(df_health.iterrows(), desc=\"Matching closest climate station...\"):\n",
    "        incident_date = health_row['IncidentTime']\n",
    "        \n",
    "        if incident_date in climate_groups:\n",
    "            time_filtered = climate_groups[incident_date]\n",
    "            \n",
    "            # Extract health location\n",
    "            health_lat, health_lon = float(health_row['LSOA Centroid lat']), float(health_row['LSOA Centroid long'])\n",
    "            \n",
    "            # Extract climate locations as NumPy arrays\n",
    "            climate_lats = time_filtered['Latitude'].values\n",
    "            climate_lons = time_filtered['Longitude'].values\n",
    "\n",
    "            # Compute distances in a vectorized way\n",
    "            distances = np.array([haversine(health_lat, health_lon, lat, lon) \n",
    "                                  for lat, lon in zip(climate_lats, climate_lons)])\n",
    "            \n",
    "            # Find the closest climate station\n",
    "            closest_idx = np.argmin(distances)\n",
    "            closest_row = time_filtered.iloc[closest_idx]\n",
    "\n",
    "            # Append matched row\n",
    "            matched_row = pd.concat([health_row, closest_row])\n",
    "            matched_rows.append(matched_row)\n",
    "\n",
    "    return pd.DataFrame(matched_rows) if matched_rows else pd.DataFrame()\n"
   ]
  },
  {
   "cell_type": "code",
   "execution_count": 35,
   "id": "7e19552e-50c0-4e2d-9b41-8f755e152b24",
   "metadata": {},
   "outputs": [
    {
     "name": "stderr",
     "output_type": "stream",
     "text": [
      "Matching closest climate station...: 232953it [05:50, 665.25it/s]\n"
     ]
    }
   ],
   "source": [
    "# Match and filter the data\n",
    "df_health_climate = match_and_filter(df_health, df_climate)"
   ]
  },
  {
   "cell_type": "markdown",
   "id": "6cdc4454-28f4-4280-931f-1632c53ca537",
   "metadata": {},
   "source": [
    "#### 1.3.3. Save the update health data"
   ]
  },
  {
   "cell_type": "code",
   "execution_count": 36,
   "id": "ad102676-ca3a-432c-937e-c51df89e5c43",
   "metadata": {},
   "outputs": [],
   "source": [
    "df_health_climate.to_csv(health_climate_dataset, index=False)"
   ]
  },
  {
   "cell_type": "code",
   "execution_count": null,
   "id": "f3f7e8ad-6221-469e-bfb2-4118074feed8",
   "metadata": {},
   "outputs": [],
   "source": []
  },
  {
   "cell_type": "code",
   "execution_count": null,
   "id": "85772071-afd6-48da-bff2-fb983ea637e1",
   "metadata": {},
   "outputs": [],
   "source": []
  },
  {
   "cell_type": "markdown",
   "id": "33c863db-40c5-4ff4-8b74-1699d187d997",
   "metadata": {},
   "source": [
    "# Utilities: Use to merge CSV files "
   ]
  },
  {
   "cell_type": "code",
   "execution_count": 32,
   "id": "8691697b-be52-4e13-871c-e0f66b453b42",
   "metadata": {},
   "outputs": [
    {
     "name": "stdout",
     "output_type": "stream",
     "text": [
      "Detected encoding: ISO-8859-1\n"
     ]
    },
    {
     "name": "stderr",
     "output_type": "stream",
     "text": [
      "C:\\Users\\Staff\\AppData\\Local\\Temp\\ipykernel_18408\\2335155284.py:9: DtypeWarning: Columns (3,4,7,8,9,10,35,36,37,38) have mixed types. Specify dtype option on import or set low_memory=False.\n",
      "  df_2019 = pd.read_csv(Path(dataset_folder) / \"2019.csv\", encoding=result['encoding'])\n",
      "C:\\Users\\Staff\\AppData\\Local\\Temp\\ipykernel_18408\\2335155284.py:12: DtypeWarning: Columns (3,4,7,8,9,10,35,36,37,38) have mixed types. Specify dtype option on import or set low_memory=False.\n",
      "  df_2022 = pd.read_csv(Path(dataset_folder) / \"2022.csv\", encoding=result['encoding'])\n",
      "C:\\Users\\Staff\\AppData\\Local\\Temp\\ipykernel_18408\\2335155284.py:13: DtypeWarning: Columns (3,4,7,8,9,10,35,36,37,38) have mixed types. Specify dtype option on import or set low_memory=False.\n",
      "  df_2023 = pd.read_csv(Path(dataset_folder) / \"2023.csv\", encoding=result['encoding'])\n",
      "C:\\Users\\Staff\\AppData\\Local\\Temp\\ipykernel_18408\\2335155284.py:14: DtypeWarning: Columns (3,4,7,8,9,10,35,36,37,38) have mixed types. Specify dtype option on import or set low_memory=False.\n",
      "  df_2024 = pd.read_csv(Path(dataset_folder) / \"2024.csv\", encoding=result['encoding'])\n"
     ]
    }
   ],
   "source": [
    "import chardet\n",
    "## Read a small part of the file to detect encoding\n",
    "with open(Path(dataset_folder) / \"2019.csv\", 'rb') as f:\n",
    "    result = chardet.detect(f.read(100000))  # Read first 100,000 bytes\n",
    "\n",
    "print(\"Detected encoding:\", result['encoding'])\n",
    "\n",
    "# Now read the CSV using the detected encoding\n",
    "df_2019 = pd.read_csv(Path(dataset_folder) / \"2019.csv\", encoding=result['encoding'])\n",
    "df_2020 = pd.read_csv(Path(dataset_folder) / \"2020.csv\", encoding=result['encoding'])\n",
    "df_2021 = pd.read_csv(Path(dataset_folder) / \"2021.csv\", encoding=result['encoding'])\n",
    "df_2022 = pd.read_csv(Path(dataset_folder) / \"2022.csv\", encoding=result['encoding'])\n",
    "df_2023 = pd.read_csv(Path(dataset_folder) / \"2023.csv\", encoding=result['encoding'])\n",
    "df_2024 = pd.read_csv(Path(dataset_folder) / \"2024.csv\", encoding=result['encoding'])\n",
    "\n",
    "# Merge three DataFrames with the same columns\n",
    "df_merged = pd.concat([df_2019.dropna(), df_2020.dropna(), df_2021.dropna(), df_2022.dropna(),\n",
    "                       df_2023.dropna(), df_2024.dropna()], ignore_index=True)\n"
   ]
  },
  {
   "cell_type": "code",
   "execution_count": 33,
   "id": "72687541-eec2-481a-85bf-c8f2e8e6b197",
   "metadata": {},
   "outputs": [],
   "source": [
    "df_merged.to_csv(Path(dataset_folder) / \"mental_health.csv\", encoding=\"utf-8\", index=False)"
   ]
  },
  {
   "cell_type": "code",
   "execution_count": null,
   "id": "32a7067c-702f-44c2-b0f5-a8e29985965f",
   "metadata": {},
   "outputs": [],
   "source": []
  },
  {
   "cell_type": "code",
   "execution_count": null,
   "id": "4dac9dec-0ab4-4f6d-8bd5-df2c7be27374",
   "metadata": {},
   "outputs": [],
   "source": []
  },
  {
   "cell_type": "code",
   "execution_count": 30,
   "id": "3dbbeea5-c911-4aa3-8f09-5711b99dc42b",
   "metadata": {},
   "outputs": [],
   "source": [
    "# Save this data for Common Knowledge"
   ]
  },
  {
   "cell_type": "code",
   "execution_count": 42,
   "id": "c34152e0-9fd9-4894-940d-3be374c14eb7",
   "metadata": {},
   "outputs": [],
   "source": [
    "df_climate_reduced_cols = df_climate[\n",
    "[\"Time\", \"SiteNumber\", \"SiteName\", \"Longitude\", \"Latitude\", \"aurn_go3\", \"aurn_go3_max\", \"ch4_c\", \"CH4_S\", \"t\"]\n",
    "]"
   ]
  },
  {
   "cell_type": "code",
   "execution_count": 43,
   "id": "0c1fceec-75c4-4d86-ab80-21f434e419cd",
   "metadata": {},
   "outputs": [],
   "source": [
    "convert_cols=[\"ch4_c\"]"
   ]
  },
  {
   "cell_type": "code",
   "execution_count": 44,
   "id": "4b3387cd-5722-4512-b193-808d4916fb66",
   "metadata": {},
   "outputs": [],
   "source": [
    "def mass_concentration(mmr, M_air=28.97, p=101325, T=298.15):\n",
    "    \"\"\"\n",
    "    Calculate mass concentration in µg/m^3 from mass mixing ratio (mmr).\n",
    "    Parameters:\n",
    "    mmr (float): Mass mixing ratio (dimensionless).\n",
    "    M_air (float): Molar mass of air in g/mol. Default is 28.97 g/mol.\n",
    "    p (float): Pressure in Pascals (Pa). Default is 101325 Pa (standard atmospheric pressure).\n",
    "    T (float): Temperature in Kelvin (K). Default is 298.15 K (25°C).\n",
    "    \n",
    "    Returns:\n",
    "    float: Mass concentration in µg/m^3.\n",
    "    \"\"\"\n",
    "    \n",
    "    # Universal Gas constant (J/(mol·K))\n",
    "    R = 8.3144598\n",
    "    # Calculate mass concentration (µg/m^3)\n",
    "    mass_concentration_value = 1e6 * mmr * M_air * (p / (R * T))\n",
    "\n",
    "    return mass_concentration_value"
   ]
  },
  {
   "cell_type": "code",
   "execution_count": 45,
   "id": "5621e6ea-cd63-4e47-8336-4f1888b92cf3",
   "metadata": {},
   "outputs": [],
   "source": [
    "df_climate_reduced_cols = df_climate_reduced_cols.copy() # Create a copy to avoid the view issue\n",
    "for convert_col in convert_cols:\n",
    "    df_climate_reduced_cols[convert_col] = df_climate_reduced_cols[convert_col].apply(mass_concentration)"
   ]
  },
  {
   "cell_type": "code",
   "execution_count": 51,
   "id": "0e1db711-9440-4472-8cc3-10e14728e747",
   "metadata": {},
   "outputs": [],
   "source": [
    "column_docs = {\n",
    "    \"Time\": \"Represents the date. There is no time component, as the data represents daily measurements.\",\n",
    "    \"SiteNumber\": \"A unique number representing an AURN site.\",\n",
    "    \"SiteName\": \"An AURN-specific site name.\",\n",
    "    \"Longitude\": \"The longitude coordinate of the AURN site location.\",\n",
    "    \"Latitude\": \"The latitude coordinate of the AURN site location.\",\n",
    "    \"aurn_go3\": \"The daily mean of ground-level ozone measured at the AURN site, expressed in µg/m³.\",\n",
    "    \"aurn_go3_max\": \"The daily maximum of ground-level ozone measured at the AURN site, expressed in µg/m³.\",\n",
    "    \"ch4_c\": \"The daily methane measurement at the site (Methane (CH₄) total column), collected from the CAMS dataset. It is originally measured in kg/kg (mmr), but converted to µg/m³.\",\n",
    "    \"CH4_S\": \"The daily methane measurement at the site (Methane (CH₄)), collected from the Sentinel-5P dataset, measured in ppb.\",\n",
    "    \"t\": \"The daily mean temperature, measured in Kelvin (K).\"\n",
    "}\n",
    "\n",
    "\n",
    "# Save CSV\n",
    "df_climate_reduced_cols.to_csv(Path(dataset_folder)/Path(\"climate_CK.csv\"), index=False)\n",
    "\n",
    "# Save metadata separately\n",
    "metadata = {\n",
    "    \"columns\": column_docs,\n",
    "    \"source\": \"Multiple: AURN, CAMs and Sentinel5p\",  \n",
    "    \"curated_by\": \"John Atanbori\"\n",
    "}\n",
    "\n",
    "with open(Path(dataset_folder)/Path(\"climate_metadata_CK.json\"), \"w\") as f:\n",
    "    json.dump(metadata, f, indent=4)\n"
   ]
  },
  {
   "cell_type": "code",
   "execution_count": 54,
   "id": "48140ef9-3858-4599-8db6-72697136cb7a",
   "metadata": {},
   "outputs": [],
   "source": [
    "column_docs = {\n",
    "    \"Time\": \"Represents the date. There is no time component, as the data represents daily measurements.\",\n",
    "    \"SiteNumber\": \"A unique number representing an AURN site.\",\n",
    "    \"SiteName\": \"An AURN-specific site name.\",\n",
    "    \"Longitude\": \"The longitude coordinate of the AURN site location.\",\n",
    "    \"Latitude\": \"The latitude coordinate of the AURN site location.\",\n",
    "    \"Primary_Impression_Code\": \"The code for the primary diagnosis that a healthcare provider identifies as the most significant at the time of the patient's visit or treatment.\",\n",
    "    \"Primary_Impression\": \"The primary reason the patient is seeking medical attention.\",\n",
    "    \"Primary_Impression_Count\": \"The daily primary impression counts by AURN site, representing cases reported that are closer to that AURN site.\",\n",
    "}\n",
    "\n",
    "# Save metadata separately\n",
    "metadata = {\n",
    "    \"columns\": column_docs,\n",
    "    \"source\": \"Multiple: AURN, and EMAS\",  \n",
    "    \"curated_by\": \"John Atanbori\"\n",
    "}\n",
    "\n",
    "with open(Path(dataset_folder)/Path(\"health_metadata_CK.json\"), \"w\") as f:\n",
    "    json.dump(metadata, f, indent=4)\n"
   ]
  },
  {
   "cell_type": "code",
   "execution_count": 52,
   "id": "7fdcfcbe-9d72-48db-be4f-88bf25520b90",
   "metadata": {},
   "outputs": [],
   "source": [
    "df_health2 = pd.read_csv(Path(dataset_folder)/Path(\"mental_health_summary.csv\"))"
   ]
  },
  {
   "cell_type": "code",
   "execution_count": 53,
   "id": "b3448e51-5f30-432b-ad42-9951bc9f7ceb",
   "metadata": {},
   "outputs": [
    {
     "data": {
      "text/html": [
       "<div>\n",
       "<style scoped>\n",
       "    .dataframe tbody tr th:only-of-type {\n",
       "        vertical-align: middle;\n",
       "    }\n",
       "\n",
       "    .dataframe tbody tr th {\n",
       "        vertical-align: top;\n",
       "    }\n",
       "\n",
       "    .dataframe thead th {\n",
       "        text-align: right;\n",
       "    }\n",
       "</style>\n",
       "<table border=\"1\" class=\"dataframe\">\n",
       "  <thead>\n",
       "    <tr style=\"text-align: right;\">\n",
       "      <th></th>\n",
       "      <th>Time</th>\n",
       "      <th>SiteNumber</th>\n",
       "      <th>SiteName</th>\n",
       "      <th>Longitude</th>\n",
       "      <th>Latitude</th>\n",
       "      <th>Primary_Impression_Code</th>\n",
       "      <th>Primary_Impression</th>\n",
       "      <th>Primary_Impression_Count</th>\n",
       "    </tr>\n",
       "  </thead>\n",
       "  <tbody>\n",
       "    <tr>\n",
       "      <th>0</th>\n",
       "      <td>2020-01-01</td>\n",
       "      <td>26</td>\n",
       "      <td>Burton-on-Trent Horninglow</td>\n",
       "      <td>-1.635718</td>\n",
       "      <td>52.821050</td>\n",
       "      <td>1.0</td>\n",
       "      <td>Acute Behavioural Disturbance (Mental Health)</td>\n",
       "      <td>1</td>\n",
       "    </tr>\n",
       "    <tr>\n",
       "      <th>1</th>\n",
       "      <td>2020-01-01</td>\n",
       "      <td>26</td>\n",
       "      <td>Burton-on-Trent Horninglow</td>\n",
       "      <td>-1.635718</td>\n",
       "      <td>52.821050</td>\n",
       "      <td>2.0</td>\n",
       "      <td>Anxiety (Mental Health)</td>\n",
       "      <td>1</td>\n",
       "    </tr>\n",
       "    <tr>\n",
       "      <th>2</th>\n",
       "      <td>2020-01-01</td>\n",
       "      <td>26</td>\n",
       "      <td>Burton-on-Trent Horninglow</td>\n",
       "      <td>-1.635718</td>\n",
       "      <td>52.821050</td>\n",
       "      <td>3.0</td>\n",
       "      <td>Intentional Drug Overdose (Mental Health)</td>\n",
       "      <td>1</td>\n",
       "    </tr>\n",
       "    <tr>\n",
       "      <th>3</th>\n",
       "      <td>2020-01-01</td>\n",
       "      <td>39</td>\n",
       "      <td>Chesterfield Loundsley Green</td>\n",
       "      <td>-1.454946</td>\n",
       "      <td>53.244131</td>\n",
       "      <td>2.0</td>\n",
       "      <td>Anxiety (Mental Health)</td>\n",
       "      <td>2</td>\n",
       "    </tr>\n",
       "    <tr>\n",
       "      <th>4</th>\n",
       "      <td>2020-01-01</td>\n",
       "      <td>39</td>\n",
       "      <td>Chesterfield Loundsley Green</td>\n",
       "      <td>-1.454946</td>\n",
       "      <td>53.244131</td>\n",
       "      <td>3.0</td>\n",
       "      <td>Intentional Drug Overdose (Mental Health)</td>\n",
       "      <td>2</td>\n",
       "    </tr>\n",
       "    <tr>\n",
       "      <th>...</th>\n",
       "      <td>...</td>\n",
       "      <td>...</td>\n",
       "      <td>...</td>\n",
       "      <td>...</td>\n",
       "      <td>...</td>\n",
       "      <td>...</td>\n",
       "      <td>...</td>\n",
       "      <td>...</td>\n",
       "    </tr>\n",
       "    <tr>\n",
       "      <th>100389</th>\n",
       "      <td>2024-06-15</td>\n",
       "      <td>156</td>\n",
       "      <td>Tallington</td>\n",
       "      <td>-0.381000</td>\n",
       "      <td>52.656308</td>\n",
       "      <td>2.0</td>\n",
       "      <td>Anxiety (Mental Health)</td>\n",
       "      <td>2</td>\n",
       "    </tr>\n",
       "    <tr>\n",
       "      <th>100390</th>\n",
       "      <td>2024-06-15</td>\n",
       "      <td>156</td>\n",
       "      <td>Tallington</td>\n",
       "      <td>-0.381000</td>\n",
       "      <td>52.656308</td>\n",
       "      <td>2.0</td>\n",
       "      <td>Depression (Mental Health)</td>\n",
       "      <td>1</td>\n",
       "    </tr>\n",
       "    <tr>\n",
       "      <th>100391</th>\n",
       "      <td>2024-06-15</td>\n",
       "      <td>159</td>\n",
       "      <td>Toft Newton</td>\n",
       "      <td>-0.449788</td>\n",
       "      <td>53.374133</td>\n",
       "      <td>2.0</td>\n",
       "      <td>Depression (Mental Health)</td>\n",
       "      <td>1</td>\n",
       "    </tr>\n",
       "    <tr>\n",
       "      <th>100392</th>\n",
       "      <td>2024-06-15</td>\n",
       "      <td>159</td>\n",
       "      <td>Toft Newton</td>\n",
       "      <td>-0.449788</td>\n",
       "      <td>53.374133</td>\n",
       "      <td>3.0</td>\n",
       "      <td>Self Harm (Mental Health)</td>\n",
       "      <td>1</td>\n",
       "    </tr>\n",
       "    <tr>\n",
       "      <th>100393</th>\n",
       "      <td>2024-06-15</td>\n",
       "      <td>159</td>\n",
       "      <td>Toft Newton</td>\n",
       "      <td>-0.449788</td>\n",
       "      <td>53.374133</td>\n",
       "      <td>5.0</td>\n",
       "      <td>Mental Health Crisis (Mental Health)</td>\n",
       "      <td>1</td>\n",
       "    </tr>\n",
       "  </tbody>\n",
       "</table>\n",
       "<p>100394 rows × 8 columns</p>\n",
       "</div>"
      ],
      "text/plain": [
       "              Time  SiteNumber                      SiteName  Longitude  \\\n",
       "0       2020-01-01          26    Burton-on-Trent Horninglow  -1.635718   \n",
       "1       2020-01-01          26    Burton-on-Trent Horninglow  -1.635718   \n",
       "2       2020-01-01          26    Burton-on-Trent Horninglow  -1.635718   \n",
       "3       2020-01-01          39  Chesterfield Loundsley Green  -1.454946   \n",
       "4       2020-01-01          39  Chesterfield Loundsley Green  -1.454946   \n",
       "...            ...         ...                           ...        ...   \n",
       "100389  2024-06-15         156                    Tallington  -0.381000   \n",
       "100390  2024-06-15         156                    Tallington  -0.381000   \n",
       "100391  2024-06-15         159                   Toft Newton  -0.449788   \n",
       "100392  2024-06-15         159                   Toft Newton  -0.449788   \n",
       "100393  2024-06-15         159                   Toft Newton  -0.449788   \n",
       "\n",
       "         Latitude  Primary_Impression_Code  \\\n",
       "0       52.821050                      1.0   \n",
       "1       52.821050                      2.0   \n",
       "2       52.821050                      3.0   \n",
       "3       53.244131                      2.0   \n",
       "4       53.244131                      3.0   \n",
       "...           ...                      ...   \n",
       "100389  52.656308                      2.0   \n",
       "100390  52.656308                      2.0   \n",
       "100391  53.374133                      2.0   \n",
       "100392  53.374133                      3.0   \n",
       "100393  53.374133                      5.0   \n",
       "\n",
       "                                   Primary_Impression  \\\n",
       "0       Acute Behavioural Disturbance (Mental Health)   \n",
       "1                             Anxiety (Mental Health)   \n",
       "2           Intentional Drug Overdose (Mental Health)   \n",
       "3                             Anxiety (Mental Health)   \n",
       "4           Intentional Drug Overdose (Mental Health)   \n",
       "...                                               ...   \n",
       "100389                        Anxiety (Mental Health)   \n",
       "100390                     Depression (Mental Health)   \n",
       "100391                     Depression (Mental Health)   \n",
       "100392                      Self Harm (Mental Health)   \n",
       "100393           Mental Health Crisis (Mental Health)   \n",
       "\n",
       "        Primary_Impression_Count  \n",
       "0                              1  \n",
       "1                              1  \n",
       "2                              1  \n",
       "3                              2  \n",
       "4                              2  \n",
       "...                          ...  \n",
       "100389                         2  \n",
       "100390                         1  \n",
       "100391                         1  \n",
       "100392                         1  \n",
       "100393                         1  \n",
       "\n",
       "[100394 rows x 8 columns]"
      ]
     },
     "execution_count": 53,
     "metadata": {},
     "output_type": "execute_result"
    }
   ],
   "source": []
  },
  {
   "cell_type": "code",
   "execution_count": null,
   "id": "8ceba9c6-9e2b-4d3f-9f6b-c10ed568e04e",
   "metadata": {},
   "outputs": [],
   "source": []
  }
 ],
 "metadata": {
  "kernelspec": {
   "display_name": "Python 3 (ipykernel)",
   "language": "python",
   "name": "python3"
  },
  "language_info": {
   "codemirror_mode": {
    "name": "ipython",
    "version": 3
   },
   "file_extension": ".py",
   "mimetype": "text/x-python",
   "name": "python",
   "nbconvert_exporter": "python",
   "pygments_lexer": "ipython3",
   "version": "3.10.14"
  }
 },
 "nbformat": 4,
 "nbformat_minor": 5
}
