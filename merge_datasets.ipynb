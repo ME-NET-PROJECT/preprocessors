{
 "cells": [
  {
   "cell_type": "markdown",
   "id": "edf8ae86-e515-4a1b-b61e-b14830fddd9d",
   "metadata": {},
   "source": [
    "### Import Libraries"
   ]
  },
  {
   "cell_type": "code",
   "execution_count": 1,
   "id": "ddd8f4ee-38c0-4b30-9c63-7f05ebfad5ef",
   "metadata": {},
   "outputs": [],
   "source": [
    "import pandas as pd\n",
    "import os"
   ]
  },
  {
   "cell_type": "markdown",
   "id": "ee4426dc-175b-4e49-9b9d-0848ad6224e7",
   "metadata": {},
   "source": [
    "### Define variables: datasets paths and merged dataset path (for saving output)"
   ]
  },
  {
   "cell_type": "code",
   "execution_count": 2,
   "id": "45a69bdc-1aee-4ea5-824c-b07ce8c7c041",
   "metadata": {},
   "outputs": [],
   "source": [
    "## # Dictionary to store the dataset folders and output paths for both UK and Ghana\n",
    "dataset_info = {\n",
    "    'UK': {\n",
    "        'dataset_folders': [\n",
    "            'data/cams/UK/processed_data', \n",
    "            'data/aurn/UK/processed_data', \n",
    "            'data/sentinel5p/UK/processed_data'\n",
    "        ],\n",
    "        'output_path': 'datasets/UK/sentinel_cams_aurn.csv'\n",
    "    },\n",
    "    'Ghana': {\n",
    "        'dataset_folders': [\n",
    "            'data/cams/Ghana/processed_data', \n",
    "            'data/sentinel5p/Ghana/processed_data'\n",
    "        ],\n",
    "        'output_path': 'datasets/Ghana/sentinel_cams_aurn.csv'\n",
    "    }\n",
    "}"
   ]
  },
  {
   "cell_type": "markdown",
   "id": "72f10f67-63e8-4489-98d6-f7e9c6594e29",
   "metadata": {},
   "source": [
    "### 1. Function to load CSV files in dictinary"
   ]
  },
  {
   "cell_type": "code",
   "execution_count": 3,
   "id": "f6b161e3-59f1-4cec-8af7-024741f5df41",
   "metadata": {},
   "outputs": [],
   "source": [
    "def read_csv_files(dataset_folder_path):\n",
    "    files = [f for f in os.listdir(dataset_folder_path) if f.endswith('.csv')]\n",
    "    data_frames = {}\n",
    "    \n",
    "    for file in files:\n",
    "        df = pd.read_csv(os.path.join(dataset_folder_path, file))\n",
    "        key = file.split('.')[0]  # Assumes filenames are A.csv, B.csv, etc.\n",
    "        data_frames[key] = df\n",
    "    \n",
    "    return data_frames"
   ]
  },
  {
   "cell_type": "markdown",
   "id": "8385fda0-2f88-4cba-8e40-cb0549ba0aa3",
   "metadata": {},
   "source": [
    "### 2. Function to merge the data in each data frame"
   ]
  },
  {
   "cell_type": "code",
   "execution_count": 4,
   "id": "6010cccd-3f21-47a2-b32e-97ccd7e03649",
   "metadata": {},
   "outputs": [],
   "source": [
    "def merge_data_frames(merged_df, data_frames):\n",
    "    for key, df in data_frames.items():\n",
    "        df['Time'] = pd.to_datetime(df['Time'], format='mixed', errors='coerce')\n",
    "        # Remove duplicates\n",
    "        df = df.drop_duplicates(subset=['Time', 'SiteName', 'SiteNumber', 'Longitude', 'Latitude'])\n",
    "        # merged dataframe\n",
    "        if len(merged_df) == 0:\n",
    "            merged_df = df\n",
    "        else:\n",
    "            merged_df = pd.merge(merged_df, df, on=['Time', 'SiteName', 'SiteNumber', 'Longitude', 'Latitude'], how='outer')\n",
    "    return merged_df"
   ]
  },
  {
   "cell_type": "markdown",
   "id": "2aa312c1-9fef-4919-b9c9-f3f69a861078",
   "metadata": {},
   "source": [
    "### 3. Function to save the merged data"
   ]
  },
  {
   "cell_type": "code",
   "execution_count": 5,
   "id": "f840124b-4797-4d52-b2b1-a82d8cbd23de",
   "metadata": {},
   "outputs": [],
   "source": [
    "# Function Definitions\n",
    "def save_merged_dataframe(merged_df, output_path):\n",
    "    # Extract the directory from output_path\n",
    "    output_dir = os.path.dirname(output_path)\n",
    "    \n",
    "    # Ensure the directory exists\n",
    "    os.makedirs(output_dir, exist_ok=True)\n",
    "    \n",
    "    # Save the merged CSV file\n",
    "    merged_df.to_csv(output_path, index=False)\n",
    "    print(f'Merged CSV file saved successfully at {output_path}')"
   ]
  },
  {
   "cell_type": "markdown",
   "id": "4c926eed-4491-4a64-b2e1-19fd66dcf50c",
   "metadata": {},
   "source": [
    "### 4. Merging the Data Frames from all the Datasets"
   ]
  },
  {
   "cell_type": "code",
   "execution_count": 6,
   "id": "5d8775f8-54fc-4713-84bd-a116a6525818",
   "metadata": {},
   "outputs": [
    {
     "name": "stdout",
     "output_type": "stream",
     "text": [
      "Merging CSV files for UK\n",
      "Merging CSV files from: data/cams/UK/processed_data\n",
      "Merging CSV files from: data/aurn/UK/processed_data\n",
      "Merging CSV files from: data/sentinel5p/UK/processed_data\n",
      "Merged CSV file saved successfully at datasets/UK/sentinel_cams_aurn.csv\n",
      "Merging CSV files for Ghana\n",
      "Merging CSV files from: data/cams/Ghana/processed_data\n",
      "Merging CSV files from: data/sentinel5p/Ghana/processed_data\n",
      "Merged CSV file saved successfully at datasets/Ghana/sentinel_cams_aurn.csv\n"
     ]
    }
   ],
   "source": [
    "# Process and merge data for each country\n",
    "for country, info in dataset_info.items():\n",
    "    merged_df = pd.DataFrame()\n",
    "    print(f'Merging CSV files for {country}')\n",
    "    \n",
    "    for dataset_folder in info['dataset_folders']:\n",
    "        print(f'Merging CSV files from: {dataset_folder}')\n",
    "        data_frames = read_csv_files(dataset_folder)\n",
    "        merged_df = merge_data_frames(merged_df, data_frames)\n",
    "    \n",
    "    # Save the merged dataframe to the respective country's output path\n",
    "    save_merged_dataframe(merged_df, info['output_path'])\n"
   ]
  },
  {
   "cell_type": "code",
   "execution_count": null,
   "id": "e57a85e8-6cb0-4de3-9c59-5a360b86d085",
   "metadata": {},
   "outputs": [],
   "source": []
  }
 ],
 "metadata": {
  "kernelspec": {
   "display_name": "Python 3 (ipykernel)",
   "language": "python",
   "name": "python3"
  },
  "language_info": {
   "codemirror_mode": {
    "name": "ipython",
    "version": 3
   },
   "file_extension": ".py",
   "mimetype": "text/x-python",
   "name": "python",
   "nbconvert_exporter": "python",
   "pygments_lexer": "ipython3",
   "version": "3.10.14"
  }
 },
 "nbformat": 4,
 "nbformat_minor": 5
}
