{
 "cells": [
  {
   "cell_type": "markdown",
   "id": "561d29ac-3b84-48d6-a044-8d79b964aacb",
   "metadata": {},
   "source": [
    "## Import Libraries"
   ]
  },
  {
   "cell_type": "code",
   "execution_count": 14,
   "id": "25900f98-f8ba-4183-872b-810b6acdca3c",
   "metadata": {},
   "outputs": [],
   "source": [
    "import pandas as pd\n",
    "import numpy as np\n",
    "from pathlib import Path\n",
    "from tqdm import tqdm"
   ]
  },
  {
   "cell_type": "markdown",
   "id": "ea2526f8-3e24-4dd6-a517-78176b6bce8e",
   "metadata": {},
   "source": [
    "## Declare Constants"
   ]
  },
  {
   "cell_type": "code",
   "execution_count": 22,
   "id": "0c721504-e040-4709-8ac2-eecb538f2680",
   "metadata": {},
   "outputs": [],
   "source": [
    "dataset_folder = \"datasets/UK/\"\n",
    "health_climate_dataset = Path(dataset_folder)/Path(\"mental_health_climate.csv\")\n",
    "health_summary =  Path(dataset_folder)/Path(\"mental_health_summary.csv\")\n",
    "\n",
    "# health_climate_dataset = Path(dataset_folder)/Path(\"respiratory_climate.csv\")\n",
    "# health_summary =  Path(dataset_folder)/Path(\"respiratory_summary.csv\")"
   ]
  },
  {
   "cell_type": "markdown",
   "id": "ba6ee222-7bd5-4809-9d9b-64d13efc72e0",
   "metadata": {},
   "source": [
    "## 1. Load Updated Health Dataset\n",
    "Load the updated health dataset, which has the nearest stations data added using the \"map_station_health.ipynb\""
   ]
  },
  {
   "cell_type": "code",
   "execution_count": 23,
   "id": "fc9a5428-215c-43ed-9eb7-9222a547279c",
   "metadata": {},
   "outputs": [],
   "source": [
    "df_health = pd.read_csv(health_climate_dataset)"
   ]
  },
  {
   "cell_type": "code",
   "execution_count": null,
   "id": "da3246d1-e1e0-4aa3-b273-6fc440a4fca4",
   "metadata": {},
   "outputs": [],
   "source": []
  },
  {
   "cell_type": "markdown",
   "id": "a81c843e-25df-4200-8839-5e9c65698098",
   "metadata": {},
   "source": [
    "### 1.1.Primary Impressions Counts (PIC)\n",
    "**Group by:** [Time, SiteNumber, SiteName, Longitude, Latitude, PRIMARY IMPRESSION CODE]"
   ]
  },
  {
   "cell_type": "code",
   "execution_count": 24,
   "id": "9b358651-c0bd-46b9-8efa-5ca5c6e39b0b",
   "metadata": {},
   "outputs": [],
   "source": [
    "df_pic = (\n",
    "    df_health\n",
    "    .groupby(['Time', 'SiteNumber', 'SiteName', 'Longitude', 'Latitude', 'PRIMARY IMPRESSION CODE', 'PRIMARY IMPRESSION'])\n",
    "    .size()\n",
    "    .reset_index(name='primary_impression_count')\n",
    ")\n",
    "#df_pic[\"Time\"] = pd.to_datetime(df_pic[\"Time\"], format=\"%d/%m/%Y\", dayfirst=True, errors=\"coerce\")"
   ]
  },
  {
   "cell_type": "markdown",
   "id": "742e7fa8-f8cb-41e2-96c8-5ba6da004c07",
   "metadata": {},
   "source": [
    "#### Rename columns to make them shorter"
   ]
  },
  {
   "cell_type": "code",
   "execution_count": 25,
   "id": "59681948-b89c-476a-a00b-e209b4150b20",
   "metadata": {},
   "outputs": [],
   "source": [
    "# rename columns to make them shorter\n",
    "df_pic.rename(\n",
    "    columns={\n",
    "        'PRIMARY IMPRESSION CODE': 'Primary_Impression_Code',\n",
    "        'PRIMARY IMPRESSION': 'Primary_Impression',\n",
    "        'primary_impression_count': 'Primary_Impression_Count',\n",
    "    }, \n",
    "    inplace=True\n",
    ")"
   ]
  },
  {
   "cell_type": "markdown",
   "id": "6582aa23-e09b-451d-9f9d-a3153688ebfe",
   "metadata": {},
   "source": [
    "#### 1.3.3. Save Summarised Health Data"
   ]
  },
  {
   "cell_type": "code",
   "execution_count": 27,
   "id": "3f853560-14cc-4a4b-af72-48dc33dcc5b2",
   "metadata": {},
   "outputs": [],
   "source": [
    "df_pic.to_csv(health_summary, index=False)"
   ]
  },
  {
   "cell_type": "code",
   "execution_count": null,
   "id": "19b54b63-3034-46e1-a535-aaf9c3f7eaaa",
   "metadata": {},
   "outputs": [],
   "source": []
  }
 ],
 "metadata": {
  "kernelspec": {
   "display_name": "Python 3 (ipykernel)",
   "language": "python",
   "name": "python3"
  },
  "language_info": {
   "codemirror_mode": {
    "name": "ipython",
    "version": 3
   },
   "file_extension": ".py",
   "mimetype": "text/x-python",
   "name": "python",
   "nbconvert_exporter": "python",
   "pygments_lexer": "ipython3",
   "version": "3.10.14"
  }
 },
 "nbformat": 4,
 "nbformat_minor": 5
}
