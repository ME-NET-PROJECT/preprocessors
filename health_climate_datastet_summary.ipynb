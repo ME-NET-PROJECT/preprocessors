{
 "cells": [
  {
   "cell_type": "markdown",
   "id": "561d29ac-3b84-48d6-a044-8d79b964aacb",
   "metadata": {},
   "source": [
    "## Import Libraries"
   ]
  },
  {
   "cell_type": "code",
   "execution_count": 1,
   "id": "25900f98-f8ba-4183-872b-810b6acdca3c",
   "metadata": {},
   "outputs": [],
   "source": [
    "import pandas as pd\n",
    "import numpy as np\n",
    "from pathlib import Path\n",
    "from tqdm import tqdm"
   ]
  },
  {
   "cell_type": "markdown",
   "id": "ea2526f8-3e24-4dd6-a517-78176b6bce8e",
   "metadata": {},
   "source": [
    "## Declare Constants"
   ]
  },
  {
   "cell_type": "code",
   "execution_count": 11,
   "id": "0c721504-e040-4709-8ac2-eecb538f2680",
   "metadata": {},
   "outputs": [],
   "source": [
    "dataset_folder = \"datasets/UK/\"\n",
    "# health_climate_dataset = Path(dataset_folder)/Path(\"mental_health_climate.csv\")\n",
    "# health_summary =  Path(dataset_folder)/Path(\"mental_health_climate_summary.csv\")\n",
    "\n",
    "health_climate_dataset = Path(dataset_folder)/Path(\"respiratory_climate.csv\")\n",
    "health_summary =  Path(dataset_folder)/Path(\"respiratory_climate_summary.csv\")"
   ]
  },
  {
   "cell_type": "markdown",
   "id": "ba6ee222-7bd5-4809-9d9b-64d13efc72e0",
   "metadata": {},
   "source": [
    "## 1. Load Updated Health Dataset\n",
    "Load the updated health dataset, which has the nearest stations data added using the \"map_station_health.ipynb\""
   ]
  },
  {
   "cell_type": "code",
   "execution_count": 12,
   "id": "fc9a5428-215c-43ed-9eb7-9222a547279c",
   "metadata": {},
   "outputs": [],
   "source": [
    "df_health = pd.read_csv(health_climate_dataset)"
   ]
  },
  {
   "cell_type": "code",
   "execution_count": null,
   "id": "cd9fba0e-fdb6-42fe-9838-0f3a98640b69",
   "metadata": {},
   "outputs": [],
   "source": []
  },
  {
   "cell_type": "markdown",
   "id": "a81c843e-25df-4200-8839-5e9c65698098",
   "metadata": {},
   "source": [
    "### 1.1.Primary Impressions Counts (PIC)\n",
    "**Group by:** [Time, SiteNumber, SiteName, Longitude, Latitude, PRIMARY IMPRESSION CODE]"
   ]
  },
  {
   "cell_type": "code",
   "execution_count": 13,
   "id": "9b358651-c0bd-46b9-8efa-5ca5c6e39b0b",
   "metadata": {},
   "outputs": [],
   "source": [
    "df_pic = (\n",
    "    df_health\n",
    "    .groupby(['Time', 'SiteNumber', 'SiteName', 'Longitude', 'Latitude', 'PRIMARY IMPRESSION CODE', 'PRIMARY IMPRESSION'])\n",
    "    .agg({\n",
    "        'ch4_c': 'mean', 'go3': 'mean', 'hcho': 'mean', 'no': 'mean', 'no2': 'mean', 'pm10': 'mean',\n",
    "        'pm2p5': 'mean', 't': 'mean', 'u': 'mean', 'uvbed': 'mean', 'uvbedcs': 'mean', 'v': 'mean',\n",
    "        'aurn_go3': 'mean', 'aurn_go3_max': 'mean', 'aurn_no2': 'mean', 'aurn_pm10': 'mean', 'aurn_pm25': 'mean',\n",
    "        'CH4_S': 'mean', 'CO_S': 'mean', 'HCHO_S': 'mean', 'NO2_S': 'mean'\n",
    "    })\n",
    "    .reset_index()\n",
    ")\n",
    "\n",
    "# Add the primary_impression_count separately\n",
    "df_pic['primary_impression_count'] = df_health.groupby([\n",
    "    'Time', 'SiteNumber', 'SiteName', 'Longitude', 'Latitude', 'PRIMARY IMPRESSION CODE', 'PRIMARY IMPRESSION'\n",
    "]).size().values\n"
   ]
  },
  {
   "cell_type": "markdown",
   "id": "742e7fa8-f8cb-41e2-96c8-5ba6da004c07",
   "metadata": {},
   "source": [
    "#### Rename columns to make them shorter"
   ]
  },
  {
   "cell_type": "code",
   "execution_count": 14,
   "id": "59681948-b89c-476a-a00b-e209b4150b20",
   "metadata": {},
   "outputs": [],
   "source": [
    "# rename columns to make them shorter\n",
    "df_pic.rename(\n",
    "    columns={\n",
    "        'PRIMARY IMPRESSION CODE': 'Primary_Impression_Code',\n",
    "        'PRIMARY IMPRESSION': 'Primary_Impression',\n",
    "        'primary_impression_count': 'Primary_Impression_Count',\n",
    "    }, \n",
    "    inplace=True\n",
    ")"
   ]
  },
  {
   "cell_type": "markdown",
   "id": "6582aa23-e09b-451d-9f9d-a3153688ebfe",
   "metadata": {},
   "source": [
    "#### 1.3.3. Save Summarised Health Data"
   ]
  },
  {
   "cell_type": "code",
   "execution_count": 15,
   "id": "3f853560-14cc-4a4b-af72-48dc33dcc5b2",
   "metadata": {},
   "outputs": [],
   "source": [
    "df_pic.to_csv(health_summary, index=False)"
   ]
  },
  {
   "cell_type": "code",
   "execution_count": null,
   "id": "6cfe4260-fd23-46bb-aba5-00f2e6a63c88",
   "metadata": {},
   "outputs": [],
   "source": []
  }
 ],
 "metadata": {
  "kernelspec": {
   "display_name": "Python 3 (ipykernel)",
   "language": "python",
   "name": "python3"
  },
  "language_info": {
   "codemirror_mode": {
    "name": "ipython",
    "version": 3
   },
   "file_extension": ".py",
   "mimetype": "text/x-python",
   "name": "python",
   "nbconvert_exporter": "python",
   "pygments_lexer": "ipython3",
   "version": "3.10.14"
  }
 },
 "nbformat": 4,
 "nbformat_minor": 5
}
